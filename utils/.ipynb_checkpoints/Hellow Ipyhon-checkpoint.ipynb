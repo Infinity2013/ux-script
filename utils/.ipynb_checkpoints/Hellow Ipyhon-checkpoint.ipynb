{
 "metadata": {
  "name": ""
 },
 "nbformat": 3,
 "nbformat_minor": 0,
 "worksheets": [
  {
   "cells": [
    {
     "cell_type": "markdown",
     "metadata": {},
     "source": [
      "Hellow Ipython"
     ]
    },
    {
     "cell_type": "code",
     "collapsed": false,
     "input": [
      "import os"
     ],
     "language": "python",
     "metadata": {},
     "outputs": [],
     "prompt_number": 1
    },
    {
     "cell_type": "code",
     "collapsed": false,
     "input": [
      "import sys"
     ],
     "language": "python",
     "metadata": {},
     "outputs": [],
     "prompt_number": 9
    },
    {
     "cell_type": "code",
     "collapsed": false,
     "input": [
      "import sys"
     ],
     "language": "python",
     "metadata": {},
     "outputs": [],
     "prompt_number": 3
    },
    {
     "cell_type": "code",
     "collapsed": false,
     "input": [
      "import subprocess"
     ],
     "language": "python",
     "metadata": {},
     "outputs": [],
     "prompt_number": 7
    },
    {
     "cell_type": "code",
     "collapsed": false,
     "input": [
      "print \"Hellow Ipython\""
     ],
     "language": "python",
     "metadata": {},
     "outputs": [
      {
       "output_type": "stream",
       "stream": "stdout",
       "text": [
        "Hellow Ipython\n"
       ]
      }
     ],
     "prompt_number": 4
    },
    {
     "cell_type": "code",
     "collapsed": false,
     "input": [
      "os.system(\"adb devices\")"
     ],
     "language": "python",
     "metadata": {},
     "outputs": [
      {
       "metadata": {},
       "output_type": "pyout",
       "prompt_number": 5,
       "text": [
        "0"
       ]
      }
     ],
     "prompt_number": 5
    },
    {
     "cell_type": "code",
     "collapsed": false,
     "input": [
      "p = subprocess.Popen(\"adb devices\", shell=True, stdout=subprocess.PIPE)"
     ],
     "language": "python",
     "metadata": {},
     "outputs": [],
     "prompt_number": 12
    },
    {
     "cell_type": "code",
     "collapsed": false,
     "input": [
      "print p.stdout.readlines()"
     ],
     "language": "python",
     "metadata": {},
     "outputs": [
      {
       "output_type": "stream",
       "stream": "stdout",
       "text": [
        "['List of devices attached \\n', '0123456789012345\\tdevice\\n', '\\n']\n"
       ]
      }
     ],
     "prompt_number": 13
    },
    {
     "cell_type": "code",
     "collapsed": false,
     "input": [
      "def sum(a, b):\n",
      "    print a + b"
     ],
     "language": "python",
     "metadata": {},
     "outputs": [],
     "prompt_number": 16
    },
    {
     "cell_type": "code",
     "collapsed": false,
     "input": [
      "sum(input(), input())"
     ],
     "language": "python",
     "metadata": {},
     "outputs": [
      {
       "name": "stdout",
       "output_type": "stream",
       "stream": "stdout",
       "text": [
        "4\n"
       ]
      },
      {
       "name": "stdout",
       "output_type": "stream",
       "stream": "stdout",
       "text": [
        "6\n"
       ]
      },
      {
       "output_type": "stream",
       "stream": "stdout",
       "text": [
        "10\n"
       ]
      }
     ],
     "prompt_number": 17
    },
    {
     "cell_type": "code",
     "collapsed": false,
     "input": [
      "with open(\"adb.py\", \"r\") as f:\n",
      "    print f.readlines()"
     ],
     "language": "python",
     "metadata": {},
     "outputs": [
      {
       "output_type": "stream",
       "stream": "stdout",
       "text": [
        "['import subprocess\\n', 'import os\\n', 'import sys\\n', '\\n', '\\n', 'class Adb(object):\\n', '\\n', '    def __init__(self, serial=None):\\n', '        self.__adb_exe = None\\n', '        self.canroot = True\\n', '        self.default_serial = serial if serial else os.environ.get(\"ANDROID_SERAIL\", None)\\n', '\\n', '    def adb(self):\\n', '        if self.__adb_exe is None:\\n', '            if \"ANDROID_HOME\" in os.environ:\\n', '                filename = \"adb.exe\" if os.name == \"nt\" else \"adb\"\\n', '                adb_exe = os.path.join(os.environ[\"ANDROID_HOME\"], \"platform-tools\", filename)\\n', '                if not os.path.exists(adb_exe):\\n', '                    raise EnvironmentError(\\n', '                            \"Adb not found in $ANDROID_HOME path: %s.\" % os.environ[\"ANDROID_HOME\"])\\n', '            else:\\n', '                import distutils\\n', '                if \"spawn\" not in dir(distutils):\\n', '                    import distutils.spawn\\n', '                adb_exe = distutils.spawn.find_executable(\"adb\")\\n', '                if adb_exe:\\n', '                    adb_exe = os.path.realpath(adb_exe)\\n', '                else:\\n', '                    raise EnvironmentError(\"$ANDROID_HOME environment not set.\")\\n', '            self.__adb_exe = adb_exe\\n', '        return self.__adb_exe\\n', '\\n', '    def cmd(self, *args, **kwargs):\\n', \"        '''adb command, add -s by default. return subprocess.Popen object.'''\\n\", '        serial = self.device_serial()\\n', '        if serial:\\n', '            if \" \" in serial:\\n', '                serial = \"\\'%s\\'\" % serial\\n', '            return self.raw_cmd(*[\"-s\", serial] + list(args))\\n', '        else:\\n', '            return self.raw_cmd(list(args))\\n', '\\n', '    def raw_cmd(self, *args):\\n', \"        '''adb command return subprocess.Popen object.'''\\n\", '        cmd_line = [self.adb()] + list(args)\\n', '        if os.name != \"nt\":\\n', '            cmd_line = [\" \".join(cmd_line)]\\n', '        return subprocess.Popen(cmd_line, shell=True, stdout=subprocess.PIPE, stderr=subprocess.PIPE)\\n', '\\n', '    def device_serial(self):\\n', '        if not self.default_serial:\\n', '            devices = self.devices()\\n', '            if devices:\\n', '                if len(devices) is 1:\\n', '                    self.default_serial = list(devices.keys())[0]\\n', '                else:\\n', '                    raise EnvironmentError(\"Multiple devices attached but default android serial not set.\")\\n', '            else:\\n', '                raise EnvironmentError(\"Device not attached.\")\\n', '        return self.default_serial\\n', '\\n', '    def devices(self):\\n', \"        '''get a dict of attached devices. key is the device serail, value is device name.'''\\n\", '        out = self.raw_cmd(\"devices\").communicate()[0].decode(\"utf-8\")\\n', '        match = \"List of devices attached\"\\n', '        index = out.find(match)\\n', '        if index < 0:\\n', '            raise EnvironmentError(\"adb is not working.\")\\n', '        return dict([s.split(\"\\\\t\") for s in out[index + len(match):].strip().splitlines() if s.strip()])\\n', '\\n', '    def getprop(self, key, t=\"str\"):\\n', '        val = self.cmd(\"shell getprop %s\" % key).communicate()[0].decode(\"utf-8\")\\n', '        if t == \"int\":\\n', '            return int(var)\\n', '        elif t == \"float\":\\n', '            return float(var)\\n', '        else:\\n', '            return val.strip()\\n', '\\n', '    def setprop(self, key, val):\\n', '        self.cmd(\"shell setprop %s %s\" % (key, val))\\n', '\\n', '    def root(self):\\n', '        if self.getprop(\"service.adb.root\") == \"1\":\\n', '            return\\n', '        else:\\n', '            if self.canroot:\\n', '                self.cmd(\"root\")\\n', '                self.canroot = True if self.getprop(\"service.adb.root\") == \"1\" else False\\n', '            else:\\n', '                print \"This device can\\'t be rooted\"\\n', 'adb = Adb()\\n']\n"
       ]
      }
     ],
     "prompt_number": 18
    },
    {
     "cell_type": "code",
     "collapsed": false,
     "input": [],
     "language": "python",
     "metadata": {},
     "outputs": []
    }
   ],
   "metadata": {}
  }
 ]
}